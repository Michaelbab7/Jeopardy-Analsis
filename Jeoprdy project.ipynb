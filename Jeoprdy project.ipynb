{
 "cells": [
  {
   "cell_type": "markdown",
   "id": "c9db748e",
   "metadata": {},
   "source": [
    "# This Is Jeopardy! Project"
   ]
  },
  {
   "cell_type": "code",
   "execution_count": 63,
   "id": "d57c527b",
   "metadata": {},
   "outputs": [
    {
     "name": "stderr",
     "output_type": "stream",
     "text": [
      "<ipython-input-63-17fd50f904dc>:3: FutureWarning: Passing a negative integer is deprecated in version 1.0 and will not be supported in future version. Instead, use None to not limit the column width.\n",
      "  pd.set_option('display.max_colwidth', -1)\n"
     ]
    },
    {
     "data": {
      "text/html": [
       "<div>\n",
       "<style scoped>\n",
       "    .dataframe tbody tr th:only-of-type {\n",
       "        vertical-align: middle;\n",
       "    }\n",
       "\n",
       "    .dataframe tbody tr th {\n",
       "        vertical-align: top;\n",
       "    }\n",
       "\n",
       "    .dataframe thead th {\n",
       "        text-align: right;\n",
       "    }\n",
       "</style>\n",
       "<table border=\"1\" class=\"dataframe\">\n",
       "  <thead>\n",
       "    <tr style=\"text-align: right;\">\n",
       "      <th></th>\n",
       "      <th>Show Number</th>\n",
       "      <th>Air Date</th>\n",
       "      <th>Round</th>\n",
       "      <th>Category</th>\n",
       "      <th>Value</th>\n",
       "      <th>Question</th>\n",
       "      <th>Answer</th>\n",
       "    </tr>\n",
       "  </thead>\n",
       "  <tbody>\n",
       "    <tr>\n",
       "      <th>0</th>\n",
       "      <td>4680</td>\n",
       "      <td>2004-12-31</td>\n",
       "      <td>Jeopardy!</td>\n",
       "      <td>HISTORY</td>\n",
       "      <td>$200</td>\n",
       "      <td>For the last 8 years of his life, Galileo was under house arrest for espousing this man's theory</td>\n",
       "      <td>Copernicus</td>\n",
       "    </tr>\n",
       "    <tr>\n",
       "      <th>1</th>\n",
       "      <td>4680</td>\n",
       "      <td>2004-12-31</td>\n",
       "      <td>Jeopardy!</td>\n",
       "      <td>ESPN's TOP 10 ALL-TIME ATHLETES</td>\n",
       "      <td>$200</td>\n",
       "      <td>No. 2: 1912 Olympian; football star at Carlisle Indian School; 6 MLB seasons with the Reds, Giants &amp; Braves</td>\n",
       "      <td>Jim Thorpe</td>\n",
       "    </tr>\n",
       "    <tr>\n",
       "      <th>2</th>\n",
       "      <td>4680</td>\n",
       "      <td>2004-12-31</td>\n",
       "      <td>Jeopardy!</td>\n",
       "      <td>EVERYBODY TALKS ABOUT IT...</td>\n",
       "      <td>$200</td>\n",
       "      <td>The city of Yuma in this state has a record average of 4,055 hours of sunshine each year</td>\n",
       "      <td>Arizona</td>\n",
       "    </tr>\n",
       "    <tr>\n",
       "      <th>3</th>\n",
       "      <td>4680</td>\n",
       "      <td>2004-12-31</td>\n",
       "      <td>Jeopardy!</td>\n",
       "      <td>THE COMPANY LINE</td>\n",
       "      <td>$200</td>\n",
       "      <td>In 1963, live on \"The Art Linkletter Show\", this company served its billionth burger</td>\n",
       "      <td>McDonald's</td>\n",
       "    </tr>\n",
       "    <tr>\n",
       "      <th>4</th>\n",
       "      <td>4680</td>\n",
       "      <td>2004-12-31</td>\n",
       "      <td>Jeopardy!</td>\n",
       "      <td>EPITAPHS &amp; TRIBUTES</td>\n",
       "      <td>$200</td>\n",
       "      <td>Signer of the Dec. of Indep., framer of the Constitution of Mass., second President of the United States</td>\n",
       "      <td>John Adams</td>\n",
       "    </tr>\n",
       "  </tbody>\n",
       "</table>\n",
       "</div>"
      ],
      "text/plain": [
       "   Show Number    Air Date      Round                         Category  Value  \\\n",
       "0  4680         2004-12-31  Jeopardy!  HISTORY                          $200    \n",
       "1  4680         2004-12-31  Jeopardy!  ESPN's TOP 10 ALL-TIME ATHLETES  $200    \n",
       "2  4680         2004-12-31  Jeopardy!  EVERYBODY TALKS ABOUT IT...      $200    \n",
       "3  4680         2004-12-31  Jeopardy!  THE COMPANY LINE                 $200    \n",
       "4  4680         2004-12-31  Jeopardy!  EPITAPHS & TRIBUTES              $200    \n",
       "\n",
       "                                                                                                      Question  \\\n",
       "0  For the last 8 years of his life, Galileo was under house arrest for espousing this man's theory              \n",
       "1  No. 2: 1912 Olympian; football star at Carlisle Indian School; 6 MLB seasons with the Reds, Giants & Braves   \n",
       "2  The city of Yuma in this state has a record average of 4,055 hours of sunshine each year                      \n",
       "3  In 1963, live on \"The Art Linkletter Show\", this company served its billionth burger                          \n",
       "4  Signer of the Dec. of Indep., framer of the Constitution of Mass., second President of the United States      \n",
       "\n",
       "       Answer  \n",
       "0  Copernicus  \n",
       "1  Jim Thorpe  \n",
       "2  Arizona     \n",
       "3  McDonald's  \n",
       "4  John Adams  "
      ]
     },
     "execution_count": 63,
     "metadata": {},
     "output_type": "execute_result"
    }
   ],
   "source": [
    "# Loading the data\n",
    "import pandas as pd\n",
    "pd.set_option('display.max_colwidth', -1)\n",
    "jeopardy_data = pd.read_csv(\"jeopardy.csv\")\n",
    "\n",
    "jeopardy_data.head()\n"
   ]
  },
  {
   "cell_type": "markdown",
   "id": "74fc5299",
   "metadata": {},
   "source": [
    "### Task 1:\n",
    "#### Renaming misformatted columns"
   ]
  },
  {
   "cell_type": "code",
   "execution_count": 64,
   "id": "d272bb4e",
   "metadata": {},
   "outputs": [
    {
     "name": "stdout",
     "output_type": "stream",
     "text": [
      "['Show Number', ' Air Date', ' Round', ' Category', ' Value', ' Question', ' Answer']\n"
     ]
    },
    {
     "data": {
      "text/plain": [
       "['Show Number', 'Air Date', 'Round', 'Category', 'Value', 'Question', 'Answer']"
      ]
     },
     "execution_count": 64,
     "metadata": {},
     "output_type": "execute_result"
    }
   ],
   "source": [
    "print(list(jeopardy_data.columns))\n",
    "\n",
    "\n",
    "new_columns = list(jeopardy_data.columns.str.strip())\n",
    "current_columns = list(jeopardy_data.columns)\n",
    "\n",
    "# create a zipped list so i can iterate thrgho every column and change its name\n",
    "zipped_columns = list(zip(current_columns, new_columns))\n",
    "for column in zipped_columns:\n",
    "     jeopardy_data.rename(columns={column[0]:column[1]}, inplace=True)\n",
    "\n",
    "list(jeopardy_data.columns)"
   ]
  },
  {
   "cell_type": "markdown",
   "id": "020bc2d4",
   "metadata": {},
   "source": [
    "### Task 2:\n",
    "#### Create a function that filter a dataset by a list of words"
   ]
  },
  {
   "cell_type": "code",
   "execution_count": 80,
   "id": "74085326",
   "metadata": {},
   "outputs": [
    {
     "data": {
      "text/html": [
       "<div>\n",
       "<style scoped>\n",
       "    .dataframe tbody tr th:only-of-type {\n",
       "        vertical-align: middle;\n",
       "    }\n",
       "\n",
       "    .dataframe tbody tr th {\n",
       "        vertical-align: top;\n",
       "    }\n",
       "\n",
       "    .dataframe thead th {\n",
       "        text-align: right;\n",
       "    }\n",
       "</style>\n",
       "<table border=\"1\" class=\"dataframe\">\n",
       "  <thead>\n",
       "    <tr style=\"text-align: right;\">\n",
       "      <th></th>\n",
       "      <th>Show Number</th>\n",
       "      <th>Air Date</th>\n",
       "      <th>Round</th>\n",
       "      <th>Category</th>\n",
       "      <th>Value</th>\n",
       "      <th>Question</th>\n",
       "      <th>Answer</th>\n",
       "    </tr>\n",
       "  </thead>\n",
       "  <tbody>\n",
       "    <tr>\n",
       "      <th>4953</th>\n",
       "      <td>3003</td>\n",
       "      <td>1997-09-24</td>\n",
       "      <td>Double Jeopardy!</td>\n",
       "      <td>\"PH\"UN WORDS</td>\n",
       "      <td>$200</td>\n",
       "      <td>Both England's King George V &amp; FDR put their stamp of approval on this \"King of Hobbies\"</td>\n",
       "      <td>Philately (stamp collecting)</td>\n",
       "    </tr>\n",
       "    <tr>\n",
       "      <th>6337</th>\n",
       "      <td>3517</td>\n",
       "      <td>1999-12-14</td>\n",
       "      <td>Double Jeopardy!</td>\n",
       "      <td>Y1K</td>\n",
       "      <td>$800</td>\n",
       "      <td>In retaliation for Viking raids, this \"Unready\" king of England attacks Norse areas of the Isle of Man</td>\n",
       "      <td>Ethelred</td>\n",
       "    </tr>\n",
       "    <tr>\n",
       "      <th>9191</th>\n",
       "      <td>3907</td>\n",
       "      <td>2001-09-04</td>\n",
       "      <td>Double Jeopardy!</td>\n",
       "      <td>WON THE BATTLE</td>\n",
       "      <td>$800</td>\n",
       "      <td>This king of England beat the odds to trounce the French in the 1415 Battle of Agincourt</td>\n",
       "      <td>Henry V</td>\n",
       "    </tr>\n",
       "    <tr>\n",
       "      <th>11710</th>\n",
       "      <td>2903</td>\n",
       "      <td>1997-03-26</td>\n",
       "      <td>Double Jeopardy!</td>\n",
       "      <td>BRITISH MONARCHS</td>\n",
       "      <td>$600</td>\n",
       "      <td>This Scotsman, the first Stuart king of England, was called \"The Wisest Fool in Christendom\"</td>\n",
       "      <td>James I</td>\n",
       "    </tr>\n",
       "    <tr>\n",
       "      <th>13454</th>\n",
       "      <td>4726</td>\n",
       "      <td>2005-03-07</td>\n",
       "      <td>Jeopardy!</td>\n",
       "      <td>A NUMBER FROM 1 TO 10</td>\n",
       "      <td>$1000</td>\n",
       "      <td>It's the number that followed the last king of England named William</td>\n",
       "      <td>4</td>\n",
       "    </tr>\n",
       "    <tr>\n",
       "      <th>...</th>\n",
       "      <td>...</td>\n",
       "      <td>...</td>\n",
       "      <td>...</td>\n",
       "      <td>...</td>\n",
       "      <td>...</td>\n",
       "      <td>...</td>\n",
       "      <td>...</td>\n",
       "    </tr>\n",
       "    <tr>\n",
       "      <th>208295</th>\n",
       "      <td>4621</td>\n",
       "      <td>2004-10-11</td>\n",
       "      <td>Jeopardy!</td>\n",
       "      <td>THE VIKINGS</td>\n",
       "      <td>$600</td>\n",
       "      <td>In 1066 this great-great grandson of Rollo made what some call the last Viking invasion of England</td>\n",
       "      <td>William the Conqueror</td>\n",
       "    </tr>\n",
       "    <tr>\n",
       "      <th>208742</th>\n",
       "      <td>4863</td>\n",
       "      <td>2005-11-02</td>\n",
       "      <td>Double Jeopardy!</td>\n",
       "      <td>BEFORE &amp; AFTER</td>\n",
       "      <td>$3,000</td>\n",
       "      <td>Dutch-born king who ruled England jointly with Mary II &amp; is a tasty New Zealand fish</td>\n",
       "      <td>William of Orange roughy</td>\n",
       "    </tr>\n",
       "    <tr>\n",
       "      <th>213870</th>\n",
       "      <td>5856</td>\n",
       "      <td>2010-02-15</td>\n",
       "      <td>Double Jeopardy!</td>\n",
       "      <td>URANUS</td>\n",
       "      <td>$1600</td>\n",
       "      <td>In 1781 William Herschel discovered Uranus &amp; initially named it after this king of England</td>\n",
       "      <td>George III</td>\n",
       "    </tr>\n",
       "    <tr>\n",
       "      <th>216021</th>\n",
       "      <td>1881</td>\n",
       "      <td>1992-11-09</td>\n",
       "      <td>Double Jeopardy!</td>\n",
       "      <td>HISTORIC NAMES</td>\n",
       "      <td>$1000</td>\n",
       "      <td>His nickname was \"Bertie\", but he used this name &amp; number when he became king of England in 1901</td>\n",
       "      <td>Edward VII</td>\n",
       "    </tr>\n",
       "    <tr>\n",
       "      <th>216789</th>\n",
       "      <td>5070</td>\n",
       "      <td>2006-09-29</td>\n",
       "      <td>Double Jeopardy!</td>\n",
       "      <td>ANCIENT HISTORY</td>\n",
       "      <td>$1200</td>\n",
       "      <td>This kingdom of England grew from 2 settlements, one founded around 495 by Cerdic &amp; his son Cynric</td>\n",
       "      <td>Wessex</td>\n",
       "    </tr>\n",
       "  </tbody>\n",
       "</table>\n",
       "<p>152 rows × 7 columns</p>\n",
       "</div>"
      ],
      "text/plain": [
       "        Show Number    Air Date             Round               Category  \\\n",
       "4953    3003         1997-09-24  Double Jeopardy!  \"PH\"UN WORDS            \n",
       "6337    3517         1999-12-14  Double Jeopardy!  Y1K                     \n",
       "9191    3907         2001-09-04  Double Jeopardy!  WON THE BATTLE          \n",
       "11710   2903         1997-03-26  Double Jeopardy!  BRITISH MONARCHS        \n",
       "13454   4726         2005-03-07  Jeopardy!         A NUMBER FROM 1 TO 10   \n",
       "...      ...                ...        ...                           ...   \n",
       "208295  4621         2004-10-11  Jeopardy!         THE VIKINGS             \n",
       "208742  4863         2005-11-02  Double Jeopardy!  BEFORE & AFTER          \n",
       "213870  5856         2010-02-15  Double Jeopardy!  URANUS                  \n",
       "216021  1881         1992-11-09  Double Jeopardy!  HISTORIC NAMES          \n",
       "216789  5070         2006-09-29  Double Jeopardy!  ANCIENT HISTORY         \n",
       "\n",
       "         Value  \\\n",
       "4953    $200     \n",
       "6337    $800     \n",
       "9191    $800     \n",
       "11710   $600     \n",
       "13454   $1000    \n",
       "...       ...    \n",
       "208295  $600     \n",
       "208742  $3,000   \n",
       "213870  $1600    \n",
       "216021  $1000    \n",
       "216789  $1200    \n",
       "\n",
       "                                                                                                      Question  \\\n",
       "4953    Both England's King George V & FDR put their stamp of approval on this \"King of Hobbies\"                 \n",
       "6337    In retaliation for Viking raids, this \"Unready\" king of England attacks Norse areas of the Isle of Man   \n",
       "9191    This king of England beat the odds to trounce the French in the 1415 Battle of Agincourt                 \n",
       "11710   This Scotsman, the first Stuart king of England, was called \"The Wisest Fool in Christendom\"             \n",
       "13454   It's the number that followed the last king of England named William                                     \n",
       "...                                                                      ...                                     \n",
       "208295  In 1066 this great-great grandson of Rollo made what some call the last Viking invasion of England       \n",
       "208742  Dutch-born king who ruled England jointly with Mary II & is a tasty New Zealand fish                     \n",
       "213870  In 1781 William Herschel discovered Uranus & initially named it after this king of England               \n",
       "216021  His nickname was \"Bertie\", but he used this name & number when he became king of England in 1901         \n",
       "216789  This kingdom of England grew from 2 settlements, one founded around 495 by Cerdic & his son Cynric       \n",
       "\n",
       "                              Answer  \n",
       "4953    Philately (stamp collecting)  \n",
       "6337    Ethelred                      \n",
       "9191    Henry V                       \n",
       "11710   James I                       \n",
       "13454   4                             \n",
       "...    ..                             \n",
       "208295  William the Conqueror         \n",
       "208742  William of Orange roughy      \n",
       "213870  George III                    \n",
       "216021  Edward VII                    \n",
       "216789  Wessex                        \n",
       "\n",
       "[152 rows x 7 columns]"
      ]
     },
     "execution_count": 80,
     "metadata": {},
     "output_type": "execute_result"
    }
   ],
   "source": [
    "def filter_data(data, column, words):\n",
    "    # Adding every word in the list a space at the begining and end, so words like \"kingdom\" will not apear in the result.\n",
    "    for word in words:\n",
    "        words[word.index(word)] = \" \" + word + \" \"\n",
    "    # Lowercases all words in the list of words as well as the questions. Returns true is all of the words in the list appear in the question.\n",
    "    filter = lambda x: all(word.lower() in x.lower() for word in words)\n",
    "  # Applies the labmda function to the Question column and returns the rows where the function returned True\n",
    "    return data.loc[data[column].apply(filter)]\n",
    "\n",
    "words = [\"King\", \"England\"]\n",
    "# Testing the function\n",
    "filtered_df = filter_data(jeopardy_data, \"Question\", words)\n",
    "filter_df"
   ]
  },
  {
   "cell_type": "markdown",
   "id": "d56809c0",
   "metadata": {},
   "source": [
    "### Task 3:\n",
    "#### create a column with a float \"Value\", and find the mean value of a filtered dataset"
   ]
  },
  {
   "cell_type": "code",
   "execution_count": 71,
   "id": "8938c1ff",
   "metadata": {},
   "outputs": [],
   "source": [
    "# Adding a new column. If the value of the float column is not \"None\", then we cut off the first character (which is a dollar sign), and replace all commas with nothing, and then cast that value to a float. If the answer was \"None\", then we just enter a 0.\n",
    "jeopardy_data[\"Float Value\"] = jeopardy_data[\"Value\"].apply(lambda x: float(x[1:].replace(',','')) if x != \"None\" else 0)"
   ]
  },
  {
   "cell_type": "code",
   "execution_count": 81,
   "id": "799b281b",
   "metadata": {},
   "outputs": [
    {
     "name": "stdout",
     "output_type": "stream",
     "text": [
      "806.9708846584547\n"
     ]
    }
   ],
   "source": [
    "# Filtering the dataset and finding the average value of those questions\n",
    "king_filterd_data = filter_data(jeopardy_data, \"Question\", [\"King\"])\n",
    "king_question_mean = king_filterd_data[\"Float Value\"].mean()\n",
    "# printing the answer\n",
    "print(king_question_mean)"
   ]
  },
  {
   "cell_type": "markdown",
   "id": "781965f6",
   "metadata": {},
   "source": [
    "### Task 4:\n",
    "#### A function to find the unique answers of a set of data"
   ]
  },
  {
   "cell_type": "code",
   "execution_count": 84,
   "id": "b4cabd45",
   "metadata": {},
   "outputs": [
    {
     "data": {
      "text/plain": [
       "Henry VIII               31\n",
       "Richard III              20\n",
       "Sweden                   18\n",
       "Norway                   18\n",
       "Solomon                  17\n",
       "                         ..\n",
       "Sisyphus                 1 \n",
       "Marie Antoinette         1 \n",
       "The First Noël Coward    1 \n",
       "King George V            1 \n",
       "The Battle of Crecy      1 \n",
       "Name: Answer, Length: 1040, dtype: int64"
      ]
     },
     "execution_count": 84,
     "metadata": {},
     "output_type": "execute_result"
    }
   ],
   "source": [
    "def get_answer_counts(data):\n",
    "    return data[\"Answer\"].value_counts()\n",
    "\n",
    "#Test the function\n",
    "get_answer_counts(king_filterd_data)"
   ]
  },
  {
   "cell_type": "markdown",
   "id": "bc1a041a",
   "metadata": {},
   "source": [
    "## Investigate the data more"
   ]
  },
  {
   "cell_type": "markdown",
   "id": "dce71210",
   "metadata": {},
   "source": [
    "### Question 1:\n",
    "#### How many questions from the 90s use the word \"Computer\" compared to questions from the 2000s?"
   ]
  },
  {
   "cell_type": "code",
   "execution_count": 123,
   "id": "e0a33fa4",
   "metadata": {},
   "outputs": [
    {
     "name": "stdout",
     "output_type": "stream",
     "text": [
      "During the 90's the word \"computer\" appear 57 times in questions. During the 00's the word \"computer\" appear 210 times in questions.\n",
      "\n",
      "We can tell from that camputer were less popular in the 90's, and probably pepole didnt knew much about them.\n"
     ]
    }
   ],
   "source": [
    "# adding \"Year\" column\n",
    "jeopardy_data[\"Year\"] = jeopardy_data[\"Air Date\"].apply(lambda x: int(x[:4]))\n",
    "\n",
    "# filter the data to decade\n",
    "filter_90s = jeopardy_data.loc[(jeopardy_data[\"Year\"]>= 1990) & (jeopardy_data[\"Year\"] < 2000)]\n",
    "filter_00s = jeopardy_data[jeopardy_data[\"Year\"] >= 2000]\n",
    "\n",
    "# filter the data above with question that contains the word computer using the function \"filter_data\"\n",
    "filter_90s_computer = len(filter_data(filter_90s, \"Question\", [\"Computer\"]))\n",
    "filter_00s_computer = len(filter_data(filter_00s, \"Question\", [\"Computer\"]))\n",
    "\n",
    "print(\"During the 90's the word \\\"computer\\\" appear {} times in questions. During the 00's the word \\\"computer\\\" appear {} times in questions.\".format(filter_90s_computer, filter_00s_computer))\n",
    "print(\"\")\n",
    "print(\"We can tell from that camputer were less popular in the 90's, and probably pepole didnt knew much about them.\")"
   ]
  },
  {
   "cell_type": "markdown",
   "id": "4c65c403",
   "metadata": {},
   "source": [
    "## Jeopardy Game\n",
    "### Build a system to quiz yourself "
   ]
  },
  {
   "cell_type": "code",
   "execution_count": 127,
   "id": "e79d1df5",
   "metadata": {},
   "outputs": [],
   "source": [
    "# import the necesarry library \n",
    "import random"
   ]
  },
  {
   "cell_type": "code",
   "execution_count": 172,
   "id": "a2a75a1e",
   "metadata": {},
   "outputs": [],
   "source": [
    "# Creating a function that take 20 random questions thier answers and values, \n",
    "# then create a round for every question if the user type the answer right he gets the value of the question, in the end it print the result\n",
    "def play_jeoprady(data):\n",
    "    question = list(data[\"Question\"])\n",
    "    answers = list(data[\"Answer\"])\n",
    "    values = list(data[\"Float Value\"])\n",
    "    zipped_lists = list(zip(question, answers, values))\n",
    "    answers_right = 0\n",
    "    prize = 0\n",
    "    roundd = 0\n",
    "    for i in range(20):\n",
    "        this_round = random.choice(zipped_lists)\n",
    "        question = this_round[0]\n",
    "        answer = this_round[1]\n",
    "        values = this_round[2]\n",
    "        answers = sorted([answer, random.choice(zipped_lists)[1], random.choice(zipped_lists)[1], random.choice(zipped_lists)[1]] )      \n",
    "        roundd += 1 \n",
    "        print(\"-----------------------round {}------------------------\".format(roundd))\n",
    "        print(question)\n",
    "        print(\"-----------------------options---------------\")\n",
    "        print(answers[0])\n",
    "        print(answers[1])\n",
    "        print(answers[2])\n",
    "        print(answers[3])\n",
    "        print(\"\")\n",
    "        user_answer = input(\"Copy/type the right answer\")\n",
    "        if user_answer.lower() == answer.lower():\n",
    "            prize += values\n",
    "            answers_right += 1\n",
    "            print(\"--------------------------\")\n",
    "            print(\"You are right! you win ${}\".format(values))\n",
    "            print(\"\")\n",
    "        else:\n",
    "            print(\"----------------------------------------------------\")\n",
    "            print(\"Wrong answer:( the answer was \" + answer + \". better luck next round\")\n",
    "            print(\"\")\n",
    "    print(\"-------------------------------------------------------------\")\n",
    "    print(\"You finished!, you won ${}, and you answer right {} question.\".format(prize, answers_right))\n",
    "            \n",
    "        \n",
    "        \n",
    "        \n",
    "        \n",
    "    \n",
    "    "
   ]
  },
  {
   "cell_type": "code",
   "execution_count": null,
   "id": "7fdf93bb",
   "metadata": {},
   "outputs": [
    {
     "name": "stdout",
     "output_type": "stream",
     "text": [
      "-----------------------round 1------------------------\n",
      "In 1 Kings 19 God tells him \"Anoint Hazael\", but he doesn't tell him to visit homes during the Seder\n",
      "-----------------------options---------------\n",
      "Bulgaria\n",
      "Elijah\n",
      "Hussein (I)\n",
      "a comet\n",
      "\n",
      "Copy/type the right answerElijah\n",
      "--------------------------\n",
      "You are right! you win $4700.0\n",
      "\n",
      "-----------------------round 2------------------------\n",
      "Devil-dealing doctor-turned-necromancer\n",
      "-----------------------options---------------\n",
      "\"Dr. Faustus\"\n",
      "Cosmos\n",
      "Gainesville\n",
      "frosting\n",
      "\n"
     ]
    }
   ],
   "source": [
    "play_jeoprady(jeopardy_data)"
   ]
  }
 ],
 "metadata": {
  "kernelspec": {
   "display_name": "Python 3",
   "language": "python",
   "name": "python3"
  },
  "language_info": {
   "codemirror_mode": {
    "name": "ipython",
    "version": 3
   },
   "file_extension": ".py",
   "mimetype": "text/x-python",
   "name": "python",
   "nbconvert_exporter": "python",
   "pygments_lexer": "ipython3",
   "version": "3.8.8"
  }
 },
 "nbformat": 4,
 "nbformat_minor": 5
}
