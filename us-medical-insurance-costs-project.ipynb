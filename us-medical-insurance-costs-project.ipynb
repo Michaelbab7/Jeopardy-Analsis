{
 "cells": [
  {
   "cell_type": "markdown",
   "metadata": {},
   "source": [
    "# U.S. Medical Insurance Costs Michael Babczyk\n",
    "In this project, I will investigate a csv file with medical insurance costs using Python fundamentals. It is my hope that with this project I will analyze various attributes within insurance.csv to learn more about the patient information in the file and gain insight into potential use cases for the dataset.\n",
    "\n"
   ]
  },
  {
   "cell_type": "markdown",
   "metadata": {},
   "source": [
    "For start im going to import the libraries that i will use.\n",
    "and read the file and maintain each column in a list"
   ]
  },
  {
   "cell_type": "code",
   "execution_count": 30,
   "metadata": {},
   "outputs": [],
   "source": [
    "# Import csv\n",
    "import csv\n",
    "import matplotlib.pyplot as plt\n",
    "import numpy as np"
   ]
  },
  {
   "cell_type": "code",
   "execution_count": 31,
   "metadata": {},
   "outputs": [],
   "source": [
    "# Opening the insurance file and convert it to a dictionary\n",
    "with open(\"insurance.csv\") as insurance_csv:\n",
    "    dict_insurance = csv.DictReader(insurance_csv)\n",
    "    # Convert every key to a list\n",
    "    age_list = []\n",
    "    sex_list = []\n",
    "    bmi_list = []\n",
    "    num_of_children_list = []\n",
    "    smoker_list = []\n",
    "    region_list = []\n",
    "    charges_list = []\n",
    "    for row in dict_insurance:\n",
    "        age_list.append(int(row[\"age\"]))\n",
    "        # Making the sex a binary list (female = 0, male = 1)\n",
    "        if row[\"sex\"] == \"female\":\n",
    "            sex_list.append(0)\n",
    "        else:\n",
    "            sex_list.append(1)\n",
    "        bmi_list.append(float(row[\"bmi\"]))\n",
    "        num_of_children_list.append(int(row[\"children\"]))\n",
    "        # Also making the smoker statuses a binary list\n",
    "        if row[\"smoker\"] == \"yes\":\n",
    "            smoker_list.append(1)\n",
    "        else:\n",
    "            smoker_list.append(0)\n",
    "        region_list.append(row[\"region\"])\n",
    "        charges_list.append(float(row[\"charges\"]))\n",
    "        "
   ]
  },
  {
   "cell_type": "markdown",
   "metadata": {},
   "source": [
    "### making a class\n",
    "Now i am going to making a class that will contain all the function that ill use"
   ]
  },
  {
   "cell_type": "code",
   "execution_count": 32,
   "metadata": {},
   "outputs": [],
   "source": [
    "# Making a class of all the data and calculaitions method\n",
    "class PatientsInfo:\n",
    "    # init method that takes in each list parameter\n",
    "    def __init__(self, age_list, bmi_list, charges_list, num_of_children_list, sex_list, region_list, smoker_list):\n",
    "        self.patients_ages = age_list\n",
    "        self.patients_bmis = bmi_list\n",
    "        self.patients_charges = charges_list\n",
    "        self.patients_num_children = num_of_children_list\n",
    "        self.patients_sex = sex_list\n",
    "        self.patients_regions = region_list\n",
    "        self.patients_smoker_statuses = smoker_list\n",
    "        \n",
    "     # This method returns the average from a list\n",
    "    def get_avg(self, lst):\n",
    "        counter = 0\n",
    "        total = len(lst)\n",
    "        for i in lst:\n",
    "            counter += i\n",
    "        return counter / total\n",
    "    \n",
    "    # This method returns the median from a list\n",
    "    def get_median(self, lst):\n",
    "        lst.sort()\n",
    "        if len(lst) % 2 != 0:\n",
    "            middle_index = int((len(lst) - 1) / 2)\n",
    "            return lst[middle_index]\n",
    "        else:\n",
    "            middle_index_1 = int(len(lst) / 2)\n",
    "            middle_index_2 = int((len(lst)-1) / 2)\n",
    "            return (lst[middle_index_1] + lst[middle_index_2]) / 2\n",
    "    \n",
    "    # This method returns the mode from a list\n",
    "    def get_mode(self, lst):\n",
    "        max_count = (0, 0)\n",
    "        for num in lst:\n",
    "            occurences = lst.count(num)\n",
    "            if occurences > max_count[0]:\n",
    "                max_count = (occurences, num)\n",
    "        return max_count[1]"
   ]
  },
  {
   "cell_type": "code",
   "execution_count": 33,
   "metadata": {},
   "outputs": [],
   "source": [
    "# Saving the class in a instance variable\n",
    "patientsinfo = PatientsInfo(age_list, bmi_list, charges_list, num_of_children_list, sex_list, region_list, smoker_list)"
   ]
  },
  {
   "cell_type": "markdown",
   "metadata": {},
   "source": [
    "### looking for average, median and mode charges\n"
   ]
  },
  {
   "cell_type": "code",
   "execution_count": 34,
   "metadata": {},
   "outputs": [
    {
     "name": "stdout",
     "output_type": "stream",
     "text": [
      "The average insurance charge is $13270.422265141257, the median insurance charge is $9382.033, and the mode insurance charge is $1639.5631\n"
     ]
    },
    {
     "data": {
      "image/png": "[encoded data removed]",
      "text/plain": [
       "<Figure size 648x216 with 3 Axes>"
      ]
     },
     "metadata": {
      "needs_background": "light"
     },
     "output_type": "display_data"
    }
   ],
   "source": [
    "#Saving the average charge in a variable\n",
    "avg_charges = patientsinfo.get_avg(patientsinfo.patients_charges)\n",
    "# Saving the median in a varrible\n",
    "median_charges = patientsinfo.get_median(patientsinfo.patients_charges)\n",
    "# Saving the mode charge in a varible\n",
    "mode_charges = patientsinfo.get_mode(patientsinfo.patients_charges)\n",
    "\n",
    "# Creating a dictoinary using names as a key and variables as values\n",
    "data = {'Average': avg_charges, 'Median': median_charges, 'Mode': mode_charges}\n",
    "# Convert the dict to two lists that i will use in a format\n",
    "names = list(data.keys())\n",
    "values = list(data.values())\n",
    "\n",
    "# Using plt format to visualize the result\n",
    "fig, axs = plt.subplots(1, 3, figsize=(9, 3), sharey=True)\n",
    "axs[0].bar(names, values)\n",
    "axs[1].scatter(names, values)\n",
    "axs[2].plot(names, values)\n",
    "fig.suptitle('Charges')\n",
    "\n",
    "print(\"The average insurance charge is ${}, the median insurance charge is ${}, and the mode insurance charge is ${}\".format(avg_charges, median_charges, mode_charges))"
   ]
  },
  {
   "cell_type": "markdown",
   "metadata": {},
   "source": [
    "We can see from the result that there is a huge differance between the average and the mode charge.\n",
    "from this result i can understand that there is some factor that make the insurance charge much more expensive.\n",
    "\n",
    "now im going to check three things:\n",
    "1. What is the average age and the mode age\n",
    "2. What is the average bmi and the mode bmi\n",
    "3. If there are more smokers patients or more no smokers"
   ]
  },
  {
   "cell_type": "code",
   "execution_count": 35,
   "metadata": {},
   "outputs": [
    {
     "name": "stdout",
     "output_type": "stream",
     "text": [
      "The average age is 39.21, the mode age is 18.00, the average BMI is 30.66, the mode BMI is 32.30, and there are more non smokers patients\n"
     ]
    }
   ],
   "source": [
    "# Saving the average age in a variable\n",
    "avg_age = patientsinfo.get_avg(patientsinfo.patients_ages)\n",
    "# Saving the mode age in a variable\n",
    "mode_age = patientsinfo.get_mode(patientsinfo.patients_ages)\n",
    "# Saving the average BMI in a variable\n",
    "avg_bmi = patientsinfo.get_avg(patientsinfo.patients_bmis)\n",
    "# Saving the mode BMI in a variable\n",
    "mode_bmi = patientsinfo.get_mode(patientsinfo.patients_bmis)\n",
    "# Saving the mode smoker or not in a varible\n",
    "mode_smoker_status = patientsinfo.get_mode(patientsinfo.patients_smoker_statuses)\n",
    "\n",
    "# Making am if statement so that insted seeing in the output a number, we will see a string\n",
    "if mode_smoker_status == 0:\n",
    "    mode_smoker_status = \"there are more non smokers patients\"\n",
    "else:\n",
    "    mode_smoker_status = \"there are more smokers patients\"\n",
    "    \n",
    "print(\"The average age is {:.2f}, the mode age is {:.2f}, the average BMI is {:.2f}, the mode BMI is {:.2f}, and {}\".format(avg_age, mode_age, avg_bmi, mode_bmi, mode_smoker_status))"
   ]
  },
  {
   "cell_type": "markdown",
   "metadata": {},
   "source": [
    "From a quick look at the result we might get to a conclusion that the most expensive factor its the BMI scale, but in a second glanced we see that this result are arbitrory and tell us nothing about the price factor."
   ]
  },
  {
   "cell_type": "markdown",
   "metadata": {},
   "source": [
    "### looking for the most expensive factor\n",
    "wer'e need to do some more analesys! now im going to create a two dimensional list that contains all the data per indevidual. and then im going to search for the most expensive factor"
   ]
  },
  {
   "cell_type": "code",
   "execution_count": 36,
   "metadata": {},
   "outputs": [],
   "source": [
    "# Create a list of all patients information per patient\n",
    "all_info_per_patient = list(zip(patientsinfo.patients_ages, patientsinfo.patients_sex, patientsinfo.patients_bmis, patientsinfo.patients_num_children, patientsinfo.patients_smoker_statuses, patientsinfo.patients_regions, patientsinfo.patients_charges))\n",
    " \n",
    "# Iterate thru every index to create a new list of patients that have a good factors except bmi.\n",
    "bmi_factor_charge = []\n",
    "for i in all_info_per_patient:\n",
    "    # Create an if statement that will append to the bad_bmi list patients with the maximum age of 30, non smokers, with no children, and bad bmi (not between 18-30 )\n",
    "    if i[0] <= 30 and i[3] == 0 and i[4] == 0 and i[2] >= 30 or i[2] < 18:\n",
    "        #we will need only the last index (the charges index)\n",
    "        bmi_factor_charge.append(i[-1])\n",
    "        \n",
    "# Now the same but now the bmi is going to be between 18-30, and there are going to be smokers. that wil check the smokers status factor\n",
    "smoker_status_factor_charge = []\n",
    "for i in all_info_per_patient:\n",
    "    # same if statemant as before except now the patients are going to be smokers and with proper bmi\n",
    "    if i[0] <= 30 and i[3] == 0 and i[4] == 1 and i[2] < 30 and i[2] > 18:\n",
    "        smoker_status_factor_charge.append(i[-1])\n",
    "        \n",
    "# Now again last time with the age factor\n",
    "age_factor_charge = []\n",
    "for i in all_info_per_patient:\n",
    "    # Same if statemant as before except now the patients are going to be smokers and with proper bmi\n",
    "    if i[0] >= 30 and i[3] == 0 and i[4] == 0 and i[2] < 30 and i[2] > 18:\n",
    "        age_factor_charge.append(i[-1])"
   ]
  },
  {
   "cell_type": "markdown",
   "metadata": {},
   "source": [
    "now we have the lists with simular factors that one factor of them is making their insurance more expensive.\n",
    "\n",
    "now we will see the difference betweens thier average, median and mode charges."
   ]
  },
  {
   "cell_type": "code",
   "execution_count": 67,
   "metadata": {},
   "outputs": [
    {
     "data": {
      "image/png": "[encoded data removed]",
      "text/plain": [
       "<Figure size 432x288 with 1 Axes>"
      ]
     },
     "metadata": {
      "needs_background": "light"
     },
     "output_type": "display_data"
    },
    {
     "name": "stdout",
     "output_type": "stream",
     "text": [
      "The average charge of the BMI factor is $13780.19, The average charge of the smoker status factor is $16867.45, The average charge of the age factor is $13070.88\n",
      " \n",
      "The median charge of the BMI factor is $8269.62, The median charge of the smoker status factor is $11015.17, The median charge of the age factor is $9583.89\n",
      " \n",
      "The mode charge of the BMI factor is $1242.82, The mode charge of the smoker status factor is $1121.87, The mode charge of the age factor is $1136.40\n"
     ]
    }
   ],
   "source": [
    "# Saving the average charge of the BMI factor in variable\n",
    "bmi_factor_charge_avg = patientsinfo.get_avg(bmi_factor_charge)\n",
    "# Saving the median charge of the BMI factor in variable\n",
    "bmi_factor_charge_median = patientsinfo.get_median(bmi_factor_charge)\n",
    "# Saving the mode charge of the BMI factor in variable\n",
    "bmi_factor_charge_mode = patientsinfo.get_mode(bmi_factor_charge)\n",
    "\n",
    "# Saving the average charge of the smoker status factor in variable\n",
    "smoker_status_factor_charge_avg = patientsinfo.get_avg(smoker_status_factor_charge)\n",
    "# Saving the median charge of the smoker status factor in variable\n",
    "smoker_status_factor_charge_median = patientsinfo.get_median(smoker_status_factor_charge)\n",
    "# Saving the mode charge of the smoker status factor in variable\n",
    "smoker_status_factor_charge_mode = patientsinfo.get_mode(smoker_status_factor_charge)\n",
    "\n",
    "# Saving the average charge of the age factor in variable\n",
    "age_factor_charge_avg = patientsinfo.get_avg(age_factor_charge)\n",
    "# Saving the median charge of the age factor in variable\n",
    "age_factor_charge_median = patientsinfo.get_median(age_factor_charge)\n",
    "# Saving the mode charge of the age factor in variable\n",
    "age_factor_charge_mode = patientsinfo.get_mode(age_factor_charge)\n",
    "\n",
    "\n",
    "# As before im going to make lists to visualize the data\n",
    "labels = ['Average', 'Median', 'Mode']\n",
    "bmi_factor_plot = [bmi_factor_charge_avg, bmi_factor_charge_median, bmi_factor_charge_mode]\n",
    "smoker_status_factor_plot = [smoker_status_factor_charge_avg, smoker_status_factor_charge_median, smoker_status_factor_charge_mode]\n",
    "age_factor_plot = [age_factor_charge_avg, age_factor_charge_median, age_factor_charge_mode]\n",
    "\n",
    "x = np.arange(len(labels))  # The label locations\n",
    "width = 0.3  # The width of the bars\n",
    "\n",
    "fig, ax = plt.subplots()\n",
    "rects1 = ax.bar(x - width/2, bmi_factor_plot, width, label='BMI Factor')\n",
    "rects2 = ax.bar(x + width/2, smoker_status_factor_plot, width, label='Smoker Factor')\n",
    "rects3 = ax.bar(x + width/0.664, age_factor_plot, width, label='Age Factor')\n",
    "\n",
    "\n",
    "# Add some text for labels, title and custom x-axis tick labels, etc.\n",
    "ax.set_ylabel('Charge Price')\n",
    "ax.set_title('Most Expensive Factor')\n",
    "ax.set_xticks(x)\n",
    "ax.set_xticklabels(labels)\n",
    "ax.legend()\n",
    "\n",
    "fig.tight_layout()\n",
    "plt.show()\n",
    "\n",
    "\n",
    "print(\"The average charge of the BMI factor is ${:.2f}, The average charge of the smoker status factor is ${:.2f}, The average charge of the age factor is ${:.2f}\".format(bmi_factor_charge_avg, smoker_status_factor_charge_avg, age_factor_charge_avg))\n",
    "print(\" \")\n",
    "print(\"The median charge of the BMI factor is ${:.2f}, The median charge of the smoker status factor is ${:.2f}, The median charge of the age factor is ${:.2f}\".format(bmi_factor_charge_median, smoker_status_factor_charge_median, age_factor_charge_median))\n",
    "print(\" \")\n",
    "print(\"The mode charge of the BMI factor is ${:.2f}, The mode charge of the smoker status factor is ${:.2f}, The mode charge of the age factor is ${:.2f}\".format(bmi_factor_charge_mode, smoker_status_factor_charge_mode, age_factor_charge_mode))\n"
   ]
  },
  {
   "cell_type": "markdown",
   "metadata": {},
   "source": [
    "This result are much more satisfying, we can see that the average chrage for smokers is much more bigger then the others factor, and also the median charge for smokers.\n",
    "Now i can say from this result that if someone want to cut expenses from the insurance yearly charge, he better not smoking.\n",
    "because that the major factor for the high price of the insurance yearly charge."
   ]
  },
  {
   "cell_type": "markdown",
   "metadata": {},
   "source": [
    "### Looking For The Gender Factor\n",
    "now im going to check if their is a differance between charges of males and charges of females"
   ]
  },
  {
   "cell_type": "code",
   "execution_count": 58,
   "metadata": {},
   "outputs": [
    {
     "data": {
      "image/png": "[encoded data removed]",
      "text/plain": [
       "<Figure size 432x288 with 1 Axes>"
      ]
     },
     "metadata": {
      "needs_background": "light"
     },
     "output_type": "display_data"
    },
    {
     "name": "stdout",
     "output_type": "stream",
     "text": [
      "The average charge of healthy young males is $11177.37, The average charge of healthy young females is $13519.93\n",
      " \n",
      "The median charge of healthy young males is $8143.69, The median charge of healthy young females is $8572.19\n",
      " \n",
      "The mode charge of healthy young males is $1241.57, The mode charge of healthy young females is $1628.47\n"
     ]
    }
   ],
   "source": [
    "# For that ill need to create to lists that each list will contains an healthy patients but one list is going to be females and the other are going to be males\n",
    "\n",
    "# Create an empty lists\n",
    "male_factor_charges = []\n",
    "female_factor_charges = []\n",
    "\n",
    "# Iterate thrugh every index in all_info_per_patient to create a new list of patients that have a good factors except one list will be males and the oter females.\n",
    "for i in all_info_per_patient:\n",
    "    # Create an if statement that will append to the male_factor_list male patients with the maximum age of 30, non smokers, with no children, and good bmi (between 18-30)\n",
    "    if i[0] <= 30 and i[3] == 0 and i[4] == 0 and i[2] < 30 and i[2] > 18 and i[1] == 1:\n",
    "        male_factor_charges.append(i[-1])\n",
    "    # Create an elif statement that will append to the female_factor_list female patients with the maximum age of 30, non smokers, with no children, and good bmi (between 18-30)\n",
    "    elif i[0] <= 30 and i[3] == 0 and i[4] == 0 and i[2] < 30 and i[2] > 18 and i[1] == 0:\n",
    "        female_factor_charges.append(i[-1])\n",
    "        \n",
    "        \n",
    "# Now im going to save the average, median, and mode of each list in varriables\n",
    "# Saving male factor average charge\n",
    "male_factor_charges_avg = patientsinfo.get_avg(male_factor_charges)\n",
    "# Saving male factor median charge\n",
    "male_factor_charges_median = patientsinfo.get_median(male_factor_charges)\n",
    "# Saving male factor mode charge\n",
    "male_factor_charges_mode = patientsinfo.get_mode(male_factor_charges)\n",
    "\n",
    "# Saving female factor average charge\n",
    "female_factor_charges_avg = patientsinfo.get_avg(female_factor_charges)\n",
    "# Saving female factor median charge\n",
    "female_factor_charges_median = patientsinfo.get_median(female_factor_charges)\n",
    "# Saving female factor mode charge\n",
    "female_factor_charges_mode = patientsinfo.get_mode(female_factor_charges)\n",
    "\n",
    "# As before im going to make lists to visualize the data\n",
    "labels = ['Average', 'Median', 'Mode']\n",
    "male_charges = [male_factor_charges_avg, male_factor_charges_median, male_factor_charges_mode]\n",
    "female_charges = [female_factor_charges_avg, female_factor_charges_median, female_factor_charges_mode]\n",
    "\n",
    "x = np.arange(len(labels))  # the label locations\n",
    "width = 0.35  # the width of the bars\n",
    "\n",
    "fig, ax = plt.subplots()\n",
    "rects1 = ax.bar(x - width/2, male_charges, width, label='Male')\n",
    "rects2 = ax.bar(x + width/2, female_charges, width, label='Female')\n",
    "\n",
    "# Add some text for labels, title and custom x-axis tick labels, etc.\n",
    "ax.set_ylabel('Charge Price')\n",
    "ax.set_title('Charges By Gender')\n",
    "ax.set_xticks(x)\n",
    "ax.set_xticklabels(labels)\n",
    "\n",
    "\n",
    "fig.tight_layout()\n",
    "\n",
    "plt.show()\n",
    "\n",
    "print(\"The average charge of healthy young males is ${:.2f}, The average charge of healthy young females is ${:.2f}\".format(male_factor_charges_avg, female_factor_charges_avg))\n",
    "print(\" \")\n",
    "print(\"The median charge of healthy young males is ${:.2f}, The median charge of healthy young females is ${:.2f}\".format(male_factor_charges_median, female_factor_charges_median))\n",
    "print(\" \")\n",
    "print(\"The mode charge of healthy young males is ${:.2f}, The mode charge of healthy young females is ${:.2f}\".format(male_factor_charges_mode, female_factor_charges_mode))\n"
   ]
  },
  {
   "cell_type": "markdown",
   "metadata": {},
   "source": [
    "We can learn from this result that on average females insurances are more expensive. \n",
    "And it is play as a factor for the price"
   ]
  },
  {
   "cell_type": "markdown",
   "metadata": {},
   "source": [
    "### checking if the gender factor affect the most expensive factor\n",
    "for this im going to take the same code from above that check the most expensive factor and see if i only choose male or female\n",
    "how it will change the most expensive factor"
   ]
  },
  {
   "cell_type": "code",
   "execution_count": 97,
   "metadata": {},
   "outputs": [
    {
     "data": {
      "image/png": "[encoded data removed]",
      "text/plain": [
       "<Figure size 432x288 with 1 Axes>"
      ]
     },
     "metadata": {
      "needs_background": "light"
     },
     "output_type": "display_data"
    },
    {
     "data": {
      "image/png": "[encoded data removed]",
      "text/plain": [
       "<Figure size 432x288 with 1 Axes>"
      ]
     },
     "metadata": {
      "needs_background": "light"
     },
     "output_type": "display_data"
    },
    {
     "name": "stdout",
     "output_type": "stream",
     "text": [
      "The average charge for males bmi factor is $12084.98, The average charge for males smoker status factor is $17145.93, The average charge for males age factor is $12681.48\n",
      " \n",
      "The average charge for females bmi factor is $15807.79, The average charge for females smoker status factor is $16610.40, The average charge for females age factor is $13357.53\n",
      " \n",
      " \n",
      "The median charge for males bmi factor is $7153.55, The median charge for males smoker status factor is $11788.79, The median charge for males age factor is $10579.71\n",
      " \n",
      "The median charge for females bmi factor is $9411.00, The median charge for females smoker status factor is $8457.82, The median charge for females age factor is $8360.09\n",
      " \n",
      " \n",
      "The mode charge for males bmi factor is $1242.82, The mode charge for males smoker status factor is $2597.78, The mode charge for males age factor is $1136.40\n",
      " \n",
      "The mode charge for females bmi factor is $1694.80, The mode charge for females smoker status factor is $1121.87, The mode charge for females age factor is $1137.47\n"
     ]
    }
   ],
   "source": [
    "# Taking the code from earliar and change it a bit\n",
    "# making two empty lists that each one will contains the bmi factor and only one gender (male or female)\n",
    "bmi_factor_list_males = []\n",
    "bmi_factor_list_females = []\n",
    "for i in all_info_per_patient:\n",
    "    # Create an if statement that will append to the bad_bmi list males patients with the maximum age of 30, non smokers, with no children, and bad bmi (not between 18-30 )\n",
    "    if i[1] == 1 and i[0] <= 30 and i[3] == 0 and i[4] == 0 and i[2] >= 30 or i[2] < 18:\n",
    "        bmi_factor_list_males.append(i[-1])\n",
    "    # Making an elif statement that does the same but append females to bmi_factor_list_females\n",
    "    elif i[1] == 0 and i[0] <= 30 and i[3] == 0 and i[4] == 0 and i[2] >= 30 or i[2] < 18:\n",
    "        bmi_factor_list_females.append(i[-1])\n",
    "# Now the same but with smoker factor\n",
    "smokers_factor_list_male = []\n",
    "smokers_factor_list_female = []\n",
    "for i in all_info_per_patient:\n",
    "    if i[1] == 1 and i[0] <= 30 and i[3] == 0 and i[4] == 1 and i[2] < 30 and i[2] > 18:\n",
    "        smokers_factor_list_male.append(i[-1])\n",
    "    elif i[1] == 0 and i[0] <= 30 and i[3] == 0 and i[4] == 1 and i[2] < 30 and i[2] > 18:\n",
    "        smokers_factor_list_female.append(i[-1])\n",
    "        \n",
    "# Now again last time with the age factor\n",
    "age_factor_list_male = []\n",
    "age_factor_list_female = []\n",
    "for i in all_info_per_patient:\n",
    "    if i[1] == 1 and i[0] >= 30 and i[3] == 0 and i[4] == 0 and i[2] < 30 and i[2] > 18:\n",
    "        age_factor_list_male.append(i[-1])\n",
    "    elif i[1] == 0 and i[0] >= 30 and i[3] == 0 and i[4] == 0 and i[2] < 30 and i[2] > 18:\n",
    "        age_factor_list_female.append(i[-1])\n",
    "        \n",
    "\n",
    "# Now im going to save the average, median, and mode of each list in variables\n",
    "# Saving the average chrage of the bmi males factor in variable\n",
    "bmi_factor_avg_males = patientsinfo.get_avg(bmi_factor_list_males)\n",
    "# Saving the average chrage of the bmi females factor in variable\n",
    "bmi_factor_avg_females = patientsinfo.get_avg(bmi_factor_list_females)\n",
    "# Saving the median chrage of the bmi males factor in variable\n",
    "bmi_factor_median_males = patientsinfo.get_median(bmi_factor_list_males)\n",
    "# Saving the median chrage of the bmi females factor in variable\n",
    "bmi_factor_median_females = patientsinfo.get_median(bmi_factor_list_females)\n",
    "# Saving the mode chrage of the bmi males factor in variable\n",
    "bmi_factor_mode_males = patientsinfo.get_mode(bmi_factor_list_males)\n",
    "# Saving the mode chrage of the bmi females factor in variable\n",
    "bmi_factor_mode_females = patientsinfo.get_mode(bmi_factor_list_females)\n",
    "\n",
    "# Saving the average chrage of the smoker status males factor in variable\n",
    "smokers_factor_avg_males = patientsinfo.get_avg(smokers_factor_list_male)\n",
    "# Saving the average chrage of the smoker status females factor in variable\n",
    "smokers_factor_avg_females = patientsinfo.get_avg(smokers_factor_list_female)\n",
    "# Saving the median chrage of the smoker status males factor in varriables\n",
    "smokers_factor_median_males = patientsinfo.get_median(smokers_factor_list_male)\n",
    "# Saving the median chrage of the smoker status females factor in variable\n",
    "smokers_factor_median_females = patientsinfo.get_median(smokers_factor_list_female)\n",
    "# Saving the mode chrage of the smoker status males factor in variable\n",
    "smokers_factor_mode_males = patientsinfo.get_mode(smokers_factor_list_male)\n",
    "# Saving the mode chrage of the smoker status females factor in variable\n",
    "smokers_factor_mode_females = patientsinfo.get_mode(smokers_factor_list_female)\n",
    "\n",
    "# Saving the average chrage of the age males factor in variable\n",
    "age_factor_avg_males = patientsinfo.get_avg(age_factor_list_male)\n",
    "# Saving the average chrage of the age females factor in variable\n",
    "age_factor_avg_females = patientsinfo.get_avg(age_factor_list_female)\n",
    "# Saving the mdeian chrage of the age males factor in variable\n",
    "age_factor_median_males = patientsinfo.get_median(age_factor_list_male)\n",
    "# Saving the mdeian chrage of the age females factor in variable\n",
    "age_factor_median_females = patientsinfo.get_median(age_factor_list_female)\n",
    "# Saving the mode chrage of the age males factor in variable\n",
    "age_factor_mode_males = patientsinfo.get_mode(age_factor_list_male)\n",
    "# Saving the mode chrage of the age females factor in variable\n",
    "age_factor_mode_females = patientsinfo.get_mode(age_factor_list_female)\n",
    "\n",
    "\n",
    "labels = ['Average', 'Median', 'Mode']\n",
    "bmi_factor_plot_males = [bmi_factor_avg_males, bmi_factor_median_males, bmi_factor_mode_males]\n",
    "smoker_status_factor_plot_males = [smokers_factor_avg_males, smokers_factor_median_males, smokers_factor_mode_males]\n",
    "age_factor_plot_males = [age_factor_avg_males, age_factor_median_males, age_factor_mode_males]\n",
    "\n",
    "x = np.arange(len(labels))  # the label locations\n",
    "width = 0.3  # the width of the bars\n",
    "\n",
    "fig, ax = plt.subplots()\n",
    "rects1 = ax.bar(x - width/2, bmi_factor_plot_males, width, label='BMI Factor')\n",
    "rects2 = ax.bar(x + width/2, smoker_status_factor_plot_males, width, label='Smoker Factor')\n",
    "rects3 = ax.bar(x + width/0.664, age_factor_plot_males, width, label='Age Factor')\n",
    "\n",
    "\n",
    "# Add some text for labels, title and custom x-axis tick labels, etc.\n",
    "ax.set_ylabel('Charge Price')\n",
    "ax.set_title('Most Expensive Factor Males Patients Only')\n",
    "ax.set_xticks(x)\n",
    "ax.set_xticklabels(labels)\n",
    "ax.legend()\n",
    "\n",
    "fig.tight_layout()\n",
    "\n",
    "plt.show()\n",
    "\n",
    "labels = ['Average', 'Median', 'Mode']\n",
    "bmi_factor_plot_females = [bmi_factor_avg_females, bmi_factor_median_females, bmi_factor_mode_females]\n",
    "smoker_status_factor_plot_females = [smokers_factor_avg_females, smokers_factor_median_females, smokers_factor_mode_females]\n",
    "age_factor_plot_females = [age_factor_avg_females, age_factor_median_females, age_factor_mode_females]\n",
    "\n",
    "x = np.arange(len(labels))  # the label locations\n",
    "width = 0.3  # the width of the bars\n",
    "\n",
    "fig, ax = plt.subplots()\n",
    "rects1 = ax.bar(x - width/2, bmi_factor_plot_females, width, label='BMI Factor')\n",
    "rects2 = ax.bar(x + width/2, smoker_status_factor_plot_females, width, label='Smoker Factor')\n",
    "rects3 = ax.bar(x + width/0.664, age_factor_plot_females, width, label='Age Factor')\n",
    "\n",
    "\n",
    "# Add some text for labels, title and custom x-axis tick labels, etc.\n",
    "ax.set_ylabel('Charge Price')\n",
    "ax.set_title('Most Expensive Factor Females Patients Only')\n",
    "ax.set_xticks(x)\n",
    "ax.set_xticklabels(labels)\n",
    "\n",
    "plt.show()\n",
    "\n",
    "\n",
    "print(\"The average charge for males bmi factor is ${:.2f}, The average charge for males smoker status factor is ${:.2f}, The average charge for males age factor is ${:.2f}\".format(bmi_factor_avg_males, smokers_factor_avg_males, age_factor_avg_males))\n",
    "print(\" \")\n",
    "print(\"The average charge for females bmi factor is ${:.2f}, The average charge for females smoker status factor is ${:.2f}, The average charge for females age factor is ${:.2f}\".format(bmi_factor_avg_females, smokers_factor_avg_females, age_factor_avg_females))\n",
    "print(\" \")\n",
    "print(\" \")\n",
    "print(\"The median charge for males bmi factor is ${:.2f}, The median charge for males smoker status factor is ${:.2f}, The median charge for males age factor is ${:.2f}\".format(bmi_factor_median_males, smokers_factor_median_males, age_factor_median_males))\n",
    "print(\" \")\n",
    "print(\"The median charge for females bmi factor is ${:.2f}, The median charge for females smoker status factor is ${:.2f}, The median charge for females age factor is ${:.2f}\".format(bmi_factor_median_females, smokers_factor_median_females, age_factor_median_females))\n",
    "print(\" \")\n",
    "print(\" \")\n",
    "print(\"The mode charge for males bmi factor is ${:.2f}, The mode charge for males smoker status factor is ${:.2f}, The mode charge for males age factor is ${:.2f}\".format(bmi_factor_mode_males, smokers_factor_mode_males, age_factor_mode_males))\n",
    "print(\" \")\n",
    "print(\"The mode charge for females bmi factor is ${:.2f}, The mode charge for females smoker status factor is ${:.2f}, The mode charge for females age factor is ${:.2f}\".format(bmi_factor_mode_females, smokers_factor_mode_females, age_factor_mode_females))"
   ]
  },
  {
   "cell_type": "markdown",
   "metadata": {},
   "source": [
    "We can tell from the result that the numbers have been change but the big picture have not.\n",
    "The major factor that makes the insurance more expensive is smoking.\n",
    "But as well we can see that the bmi factor for females affect the price more them it those with males."
   ]
  },
  {
   "cell_type": "markdown",
   "metadata": {},
   "source": [
    "### Checking For Missing Factors\n",
    "For last i want to check if there is some factors that is not in the data and they have an effect at the yearly chrges.\n",
    "For that ill need to search for patients with almost identical factors, and then see if there is a difference in the charges."
   ]
  },
  {
   "cell_type": "code",
   "execution_count": 95,
   "metadata": {},
   "outputs": [
    {
     "data": {
      "image/png": "[encoded data removed]",
      "text/plain": [
       "<Figure size 1080x360 with 3 Axes>"
      ]
     },
     "metadata": {
      "needs_background": "light"
     },
     "output_type": "display_data"
    }
   ],
   "source": [
    "# First we will create an empty list\n",
    "same_factors_patients = []\n",
    "# now i will iterate thrugh every index in all_info_per_patient list\n",
    "for i in all_info_per_patient:\n",
    "    # create an if statemant that wi takes only males at the age of 18, bmi between 22 to 24 (it should not affect the charge), non smokers, eothout children form the northeast\n",
    "    if i[0] == 18 and i[1] == 1 and i[2] <= 24 and i[2] >= 22 and i[3] == 0 and i[4] == 0 and i[5] == \"northeast\":\n",
    "        # if so it will append to same_factors_patients only the charges\n",
    "        same_factors_patients.append(i)\n",
    "\n",
    "# Saving the patients chrages in variables       \n",
    "patients1 = same_factors_patients[0][-1]\n",
    "patients2 = same_factors_patients[1][-1]\n",
    "patients3 = same_factors_patients[2][-1]\n",
    "\n",
    "# Saving how manny patients there is in the same_factors_patients list\n",
    "num_of_same_factors_patients = len(same_factors_patients)\n",
    "\n",
    "data = {'Patients1': patients1, 'Patients2': patients2, 'Patients3': patients3}\n",
    "names = list(data.keys())\n",
    "values = list(data.values())\n",
    "\n",
    "fig, axs = plt.subplots(1, 3, figsize=(15, 5), sharey=True)\n",
    "axs[0].bar(names, values)\n",
    "axs[1].scatter(names, values)\n",
    "axs[2].plot(names, values)\n",
    "fig.suptitle('Charges')\n",
    "for i in range(len(values)):\n",
    "    plt.text(i, values[i], values[i], ha=\"center\", va=\"bottom\")\n",
    "\n",
    "\n"
   ]
  },
  {
   "cell_type": "markdown",
   "metadata": {},
   "source": [
    "There is a huge differences between the charges although the patients have the same factors.\n",
    "We can tell from the result that there is some factor that effect the insurance charge that the data dose not include."
   ]
  },
  {
   "cell_type": "markdown",
   "metadata": {},
   "source": [
    "# Conclusion\n",
    "From all of the analysis we can tell three things:\n",
    "1. The smoker factor is the major factor that affect on the price of chrage\n",
    "2. In average female yearly charges are more expensive than males\n",
    "3. There is some factors that affect the price that are not insude the data, if we want to ge more accurate result an analysis, we wiil need to have much more data and much more information."
   ]
  }
 ],
 "metadata": {
  "kernelspec": {
   "display_name": "Python 3",
   "language": "python",
   "name": "python3"
  },
  "language_info": {
   "codemirror_mode": {
    "name": "ipython",
    "version": 3
   },
   "file_extension": ".py",
   "mimetype": "text/x-python",
   "name": "python",
   "nbconvert_exporter": "python",
   "pygments_lexer": "ipython3",
   "version": "3.8.5"
  }
 },
 "nbformat": 4,
 "nbformat_minor": 4
}
